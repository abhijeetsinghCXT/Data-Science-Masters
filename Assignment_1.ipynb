{
  "nbformat": 4,
  "nbformat_minor": 0,
  "metadata": {
    "colab": {
      "provenance": []
    },
    "kernelspec": {
      "name": "python3",
      "display_name": "Python 3"
    },
    "language_info": {
      "name": "python"
    }
  },
  "cells": [
    {
      "cell_type": "markdown",
      "source": [
        "Q1. Create one variable containing following type of data:\n",
        "(i) string\n",
        "(ii) list\n",
        "(iii) float\n",
        "(iv) tuple"
      ],
      "metadata": {
        "id": "GgpVW9S4psW_"
      }
    },
    {
      "cell_type": "code",
      "execution_count": 1,
      "metadata": {
        "id": "oh6JXdYlpoTs"
      },
      "outputs": [],
      "source": [
        "a = \"string\"\n",
        "b = [1,2,3,4]\n",
        "c = 4.56\n",
        "d = (1,4,5,\"sam\")"
      ]
    },
    {
      "cell_type": "markdown",
      "source": [
        "Q2. Given are some following variables containing data:\n",
        "(i) var1 = ' '\n",
        "(ii) var2 = '[ DS , ML , Python]'\n",
        "(iii) var3 = [ 'DS' , 'ML' , 'Python' ]\n",
        "(iv) var4 = 1.\n",
        "What will be the data type of the above given variable."
      ],
      "metadata": {
        "id": "9EKkoujRqNmV"
      }
    },
    {
      "cell_type": "code",
      "source": [
        "var1 = ' '\n",
        "var2 = '[DS, ML, Python]'\n",
        "var3 = ['DS', 'ML', 'Python']\n",
        "var4 = 1."
      ],
      "metadata": {
        "id": "YfJdpbTyqiC_"
      },
      "execution_count": 6,
      "outputs": []
    },
    {
      "cell_type": "code",
      "source": [
        "type(var1)"
      ],
      "metadata": {
        "colab": {
          "base_uri": "https://localhost:8080/"
        },
        "id": "yh4wXbVhqyys",
        "outputId": "0ffacd8e-55a4-4d82-d797-9396cd89397e"
      },
      "execution_count": 8,
      "outputs": [
        {
          "output_type": "execute_result",
          "data": {
            "text/plain": [
              "str"
            ]
          },
          "metadata": {},
          "execution_count": 8
        }
      ]
    },
    {
      "cell_type": "code",
      "source": [
        "type(var2)"
      ],
      "metadata": {
        "colab": {
          "base_uri": "https://localhost:8080/"
        },
        "id": "W3pGFR6WrCmG",
        "outputId": "934e0543-1205-43b1-e647-daaee1bd05fa"
      },
      "execution_count": 9,
      "outputs": [
        {
          "output_type": "execute_result",
          "data": {
            "text/plain": [
              "str"
            ]
          },
          "metadata": {},
          "execution_count": 9
        }
      ]
    },
    {
      "cell_type": "code",
      "source": [
        "type(var3)"
      ],
      "metadata": {
        "colab": {
          "base_uri": "https://localhost:8080/"
        },
        "id": "_bM3b82vrGT2",
        "outputId": "0c21b0ca-22b9-4f5d-94aa-012732d7ee12"
      },
      "execution_count": 10,
      "outputs": [
        {
          "output_type": "execute_result",
          "data": {
            "text/plain": [
              "list"
            ]
          },
          "metadata": {},
          "execution_count": 10
        }
      ]
    },
    {
      "cell_type": "code",
      "source": [
        "type(var4)"
      ],
      "metadata": {
        "colab": {
          "base_uri": "https://localhost:8080/"
        },
        "id": "VmenLffprIoG",
        "outputId": "e49144ac-ca4c-405c-98af-95f0bfae753c"
      },
      "execution_count": 11,
      "outputs": [
        {
          "output_type": "execute_result",
          "data": {
            "text/plain": [
              "float"
            ]
          },
          "metadata": {},
          "execution_count": 11
        }
      ]
    },
    {
      "cell_type": "markdown",
      "source": [
        "Q3. Explain the use of the following operators using an example:\n",
        "(i) /\n",
        "(ii) %\n",
        "(iii) //\n",
        "(iv) **"
      ],
      "metadata": {
        "id": "Wj2IH9lyrUNT"
      }
    },
    {
      "cell_type": "code",
      "source": [
        "a = 5\n",
        "b = 3\n",
        "c = a/b"
      ],
      "metadata": {
        "id": "-XasfetdrXuZ"
      },
      "execution_count": 14,
      "outputs": []
    },
    {
      "cell_type": "code",
      "source": [
        "c"
      ],
      "metadata": {
        "colab": {
          "base_uri": "https://localhost:8080/"
        },
        "id": "_83MDO9zrdfJ",
        "outputId": "b2226216-0ac8-4f86-fbb8-c8d7829ac948"
      },
      "execution_count": 15,
      "outputs": [
        {
          "output_type": "execute_result",
          "data": {
            "text/plain": [
              "1.6666666666666667"
            ]
          },
          "metadata": {},
          "execution_count": 15
        }
      ]
    },
    {
      "cell_type": "code",
      "source": [
        "c = a%b\n",
        "c"
      ],
      "metadata": {
        "colab": {
          "base_uri": "https://localhost:8080/"
        },
        "id": "W38Olobjribv",
        "outputId": "dc91bbea-be5c-4092-8d9a-9279c43cb857"
      },
      "execution_count": 16,
      "outputs": [
        {
          "output_type": "execute_result",
          "data": {
            "text/plain": [
              "2"
            ]
          },
          "metadata": {},
          "execution_count": 16
        }
      ]
    },
    {
      "cell_type": "code",
      "source": [
        "c = a//b\n",
        "c"
      ],
      "metadata": {
        "colab": {
          "base_uri": "https://localhost:8080/"
        },
        "id": "06eFWxHaro2R",
        "outputId": "b8fea5f9-3b4c-400a-e49f-14357e956c37"
      },
      "execution_count": 17,
      "outputs": [
        {
          "output_type": "execute_result",
          "data": {
            "text/plain": [
              "1"
            ]
          },
          "metadata": {},
          "execution_count": 17
        }
      ]
    },
    {
      "cell_type": "code",
      "source": [
        "c = a**b\n",
        "c"
      ],
      "metadata": {
        "colab": {
          "base_uri": "https://localhost:8080/"
        },
        "id": "J_pp6dZErtH_",
        "outputId": "e27cd307-be5e-45ee-da82-5e99805a394b"
      },
      "execution_count": 18,
      "outputs": [
        {
          "output_type": "execute_result",
          "data": {
            "text/plain": [
              "125"
            ]
          },
          "metadata": {},
          "execution_count": 18
        }
      ]
    },
    {
      "cell_type": "markdown",
      "source": [
        "Q4. Create a list of length 10 of your choice containing multiple types of data. Using for loop print the\n",
        "element and its data type."
      ],
      "metadata": {
        "id": "DCHCW3SZry8N"
      }
    },
    {
      "cell_type": "code",
      "source": [
        "l = [1, 2, 3.4, 5, \"sam\", [6,7,8], (3,4,5), True, 9, 8]\n",
        "\n",
        "for i in l:\n",
        "  print(type(i))"
      ],
      "metadata": {
        "colab": {
          "base_uri": "https://localhost:8080/"
        },
        "id": "N330SS7kr3XM",
        "outputId": "d97dc2f7-a2f4-4388-e72e-94329f86f001"
      },
      "execution_count": 20,
      "outputs": [
        {
          "output_type": "stream",
          "name": "stdout",
          "text": [
            "<class 'int'>\n",
            "<class 'int'>\n",
            "<class 'float'>\n",
            "<class 'int'>\n",
            "<class 'str'>\n",
            "<class 'list'>\n",
            "<class 'tuple'>\n",
            "<class 'bool'>\n",
            "<class 'int'>\n",
            "<class 'int'>\n"
          ]
        }
      ]
    },
    {
      "cell_type": "markdown",
      "source": [
        "Q5. Using a while loop, verify if the number A is purely divisible by number B and if so then how many\n",
        "times it can be divisible."
      ],
      "metadata": {
        "id": "OjKeVTaUsb7G"
      }
    },
    {
      "cell_type": "code",
      "source": [
        "a = 48\n",
        "b = 2\n",
        "count = 0\n",
        "\n",
        "while a%b == 0:\n",
        " a = a/b\n",
        " count += 1\n",
        "\n",
        "print(count)"
      ],
      "metadata": {
        "colab": {
          "base_uri": "https://localhost:8080/"
        },
        "id": "4Cht3S0bseut",
        "outputId": "42f5034f-8d05-423c-fd5a-602a383c5fd7"
      },
      "execution_count": 31,
      "outputs": [
        {
          "output_type": "stream",
          "name": "stdout",
          "text": [
            "4\n"
          ]
        }
      ]
    },
    {
      "cell_type": "markdown",
      "source": [
        "Q6. Create a list containing 25 int type data. Using for loop and if-else condition print if the element is\n",
        "divisible by 3 or not."
      ],
      "metadata": {
        "id": "JkB1H-RxuKEz"
      }
    },
    {
      "cell_type": "code",
      "source": [
        "l = [1,2,3,4,5,6,7,8,9,10,11,12,13,14,15,16,17,18,19,20,21,22,23,24,25]\n",
        "\n",
        "for i in l:\n",
        "  if i%3 ==0:\n",
        "    print(i, \"is divisible by 3.\")\n",
        "\n",
        "  else:\n",
        "    print(i, \"is not divisible by 3.\")"
      ],
      "metadata": {
        "colab": {
          "base_uri": "https://localhost:8080/"
        },
        "id": "8rHx6OQ3uOsI",
        "outputId": "202b2d18-1995-4d91-a948-386e8a81f242"
      },
      "execution_count": 33,
      "outputs": [
        {
          "output_type": "stream",
          "name": "stdout",
          "text": [
            "1 is not divisible by 3.\n",
            "2 is not divisible by 3.\n",
            "3 is divisible by 3.\n",
            "4 is not divisible by 3.\n",
            "5 is not divisible by 3.\n",
            "6 is divisible by 3.\n",
            "7 is not divisible by 3.\n",
            "8 is not divisible by 3.\n",
            "9 is divisible by 3.\n",
            "10 is not divisible by 3.\n",
            "11 is not divisible by 3.\n",
            "12 is divisible by 3.\n",
            "13 is not divisible by 3.\n",
            "14 is not divisible by 3.\n",
            "15 is divisible by 3.\n",
            "16 is not divisible by 3.\n",
            "17 is not divisible by 3.\n",
            "18 is divisible by 3.\n",
            "19 is not divisible by 3.\n",
            "20 is not divisible by 3.\n",
            "21 is divisible by 3.\n",
            "22 is not divisible by 3.\n",
            "23 is not divisible by 3.\n",
            "24 is divisible by 3.\n",
            "25 is not divisible by 3.\n"
          ]
        }
      ]
    },
    {
      "cell_type": "markdown",
      "source": [
        "Q7. What do you understand about mutable and immutable data types? Give examples for both showing\n",
        "this property."
      ],
      "metadata": {
        "id": "HHIc3E0LuxFH"
      }
    },
    {
      "cell_type": "code",
      "source": [
        "# Mutable Data Types - Can be modified once defined\n",
        "# Example:-\n",
        "\n",
        "# List:\n",
        "l = [1,2,3]\n",
        "l[0] = 5\n",
        "print(l)"
      ],
      "metadata": {
        "colab": {
          "base_uri": "https://localhost:8080/"
        },
        "id": "2U17kf67uzUe",
        "outputId": "bc48a64f-75a6-4427-98ef-37ccc9727f1d"
      },
      "execution_count": 34,
      "outputs": [
        {
          "output_type": "stream",
          "name": "stdout",
          "text": [
            "[5, 2, 3]\n"
          ]
        }
      ]
    },
    {
      "cell_type": "code",
      "source": [
        "# Immutable Data Types - Can't be modified once defined\n",
        "# Example:-\n",
        "\n",
        "# String:\n",
        "s = \"sam\"\n",
        "s[0] = 'a'\n",
        "print(s)\n",
        "\n",
        "# Tuple:\n",
        "t = (1,2,3)\n",
        "t[0] = 6\n",
        "print(t)\n"
      ],
      "metadata": {
        "colab": {
          "base_uri": "https://localhost:8080/",
          "height": 193
        },
        "id": "Y-MbqmesvEVi",
        "outputId": "43c085ba-0c24-490e-b064-69f0a7f542e1"
      },
      "execution_count": 41,
      "outputs": [
        {
          "output_type": "error",
          "ename": "TypeError",
          "evalue": "'tuple' object does not support item assignment",
          "traceback": [
            "\u001b[0;31m---------------------------------------------------------------------------\u001b[0m",
            "\u001b[0;31mTypeError\u001b[0m                                 Traceback (most recent call last)",
            "\u001b[0;32m/tmp/ipython-input-2736850171.py\u001b[0m in \u001b[0;36m<cell line: 0>\u001b[0;34m()\u001b[0m\n\u001b[1;32m      2\u001b[0m \u001b[0;34m\u001b[0m\u001b[0m\n\u001b[1;32m      3\u001b[0m \u001b[0mt\u001b[0m \u001b[0;34m=\u001b[0m \u001b[0;34m(\u001b[0m\u001b[0;36m1\u001b[0m\u001b[0;34m,\u001b[0m\u001b[0;36m2\u001b[0m\u001b[0;34m,\u001b[0m\u001b[0;36m3\u001b[0m\u001b[0;34m)\u001b[0m\u001b[0;34m\u001b[0m\u001b[0;34m\u001b[0m\u001b[0m\n\u001b[0;32m----> 4\u001b[0;31m \u001b[0mt\u001b[0m\u001b[0;34m[\u001b[0m\u001b[0;36m0\u001b[0m\u001b[0;34m]\u001b[0m \u001b[0;34m=\u001b[0m \u001b[0;36m6\u001b[0m\u001b[0;34m\u001b[0m\u001b[0;34m\u001b[0m\u001b[0m\n\u001b[0m\u001b[1;32m      5\u001b[0m \u001b[0mprint\u001b[0m\u001b[0;34m(\u001b[0m\u001b[0mt\u001b[0m\u001b[0;34m)\u001b[0m\u001b[0;34m\u001b[0m\u001b[0;34m\u001b[0m\u001b[0m\n",
            "\u001b[0;31mTypeError\u001b[0m: 'tuple' object does not support item assignment"
          ]
        }
      ]
    },
    {
      "cell_type": "code",
      "source": [],
      "metadata": {
        "id": "44DHaxC8vG7O"
      },
      "execution_count": null,
      "outputs": []
    }
  ]
}