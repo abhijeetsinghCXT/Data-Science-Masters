{
  "nbformat": 4,
  "nbformat_minor": 0,
  "metadata": {
    "colab": {
      "provenance": [],
      "authorship_tag": "ABX9TyOYySUFDcHQVwYEsQI/vg6N",
      "include_colab_link": true
    },
    "kernelspec": {
      "name": "python3",
      "display_name": "Python 3"
    },
    "language_info": {
      "name": "python"
    }
  },
  "cells": [
    {
      "cell_type": "markdown",
      "metadata": {
        "id": "view-in-github",
        "colab_type": "text"
      },
      "source": [
        "<a href=\"https://colab.research.google.com/github/abhijeetsinghCXT/Data-Science-Masters/blob/main/OOPs.ipynb\" target=\"_parent\"><img src=\"https://colab.research.google.com/assets/colab-badge.svg\" alt=\"Open In Colab\"/></a>"
      ]
    },
    {
      "cell_type": "markdown",
      "source": [
        "### **Classes Basics**"
      ],
      "metadata": {
        "id": "B-T8Ycmcb_it"
      }
    },
    {
      "cell_type": "code",
      "execution_count": null,
      "metadata": {
        "id": "uWtyv1lSJf-a"
      },
      "outputs": [],
      "source": [
        "class test:\n",
        "  pass\n"
      ]
    },
    {
      "cell_type": "code",
      "source": [
        "a = test()\n",
        "type(a)\n",
        "\n",
        "print(type(a))"
      ],
      "metadata": {
        "colab": {
          "base_uri": "https://localhost:8080/"
        },
        "id": "Lzw8nVpUKETD",
        "outputId": "f7a15651-26be-4c0d-8f41-c1713615cb33"
      },
      "execution_count": null,
      "outputs": [
        {
          "output_type": "stream",
          "name": "stdout",
          "text": [
            "<class '__main__.test'>\n"
          ]
        }
      ]
    },
    {
      "cell_type": "code",
      "source": [
        "class class1():\n",
        "\n",
        "#can use anything instead of 'self':\n",
        "\n",
        "  def test_func(self):\n",
        "    print(\"This is test function inside class1.\")"
      ],
      "metadata": {
        "id": "f6jKgypzMU-7"
      },
      "execution_count": null,
      "outputs": []
    },
    {
      "cell_type": "code",
      "source": [
        "obj = class1()"
      ],
      "metadata": {
        "id": "yTxCbjjLM3Ct"
      },
      "execution_count": null,
      "outputs": []
    },
    {
      "cell_type": "code",
      "source": [
        "obj.test_func()"
      ],
      "metadata": {
        "colab": {
          "base_uri": "https://localhost:8080/"
        },
        "id": "cbymJMk1M6-s",
        "outputId": "f321ef69-3446-4ae9-92d9-d885bb89b0af"
      },
      "execution_count": null,
      "outputs": [
        {
          "output_type": "stream",
          "name": "stdout",
          "text": [
            "This is test function inside class1.\n"
          ]
        }
      ]
    },
    {
      "cell_type": "code",
      "source": [
        "class test2:\n",
        "\n",
        "  # Constructor:\n",
        "  def __init__(self, phone, email, name):\n",
        "\n",
        "    self.phone = phone\n",
        "    self.email = email\n",
        "    self.name = name\n",
        "\n",
        "  def get_details(self):\n",
        "    return self.phone, self.email, self.name"
      ],
      "metadata": {
        "id": "niEEeIEsP0VH"
      },
      "execution_count": null,
      "outputs": []
    },
    {
      "cell_type": "code",
      "source": [
        "obj = test2(879198, \"abhijeetsingh555666@gmail.com\", \"Abhijeet Singh\")"
      ],
      "metadata": {
        "id": "FDC28x18SJ1h"
      },
      "execution_count": null,
      "outputs": []
    },
    {
      "cell_type": "code",
      "source": [
        "obj.phone"
      ],
      "metadata": {
        "colab": {
          "base_uri": "https://localhost:8080/"
        },
        "id": "7l8UqSqtTMki",
        "outputId": "3055c1e5-a24b-4765-a839-467aa21c2466"
      },
      "execution_count": null,
      "outputs": [
        {
          "output_type": "execute_result",
          "data": {
            "text/plain": [
              "879198"
            ]
          },
          "metadata": {},
          "execution_count": 25
        }
      ]
    },
    {
      "cell_type": "code",
      "source": [
        "obj.email"
      ],
      "metadata": {
        "colab": {
          "base_uri": "https://localhost:8080/",
          "height": 36
        },
        "id": "-4EEc_9CTWba",
        "outputId": "fc2f5c1a-9b9f-404c-f5c7-ef976f622350"
      },
      "execution_count": null,
      "outputs": [
        {
          "output_type": "execute_result",
          "data": {
            "text/plain": [
              "'abhijeetsingh555666@gmail.com'"
            ],
            "application/vnd.google.colaboratory.intrinsic+json": {
              "type": "string"
            }
          },
          "metadata": {},
          "execution_count": 26
        }
      ]
    },
    {
      "cell_type": "code",
      "source": [
        "obj.name"
      ],
      "metadata": {
        "colab": {
          "base_uri": "https://localhost:8080/",
          "height": 36
        },
        "id": "AJTJOWTjTXma",
        "outputId": "fec7b81d-589e-49cb-d693-737ffbdb9a07"
      },
      "execution_count": null,
      "outputs": [
        {
          "output_type": "execute_result",
          "data": {
            "text/plain": [
              "'Abhijeet Singh'"
            ],
            "application/vnd.google.colaboratory.intrinsic+json": {
              "type": "string"
            }
          },
          "metadata": {},
          "execution_count": 27
        }
      ]
    },
    {
      "cell_type": "code",
      "source": [
        "obj.get_details()"
      ],
      "metadata": {
        "colab": {
          "base_uri": "https://localhost:8080/"
        },
        "id": "GZ22le21Tb44",
        "outputId": "0d85d6b3-b8d9-4116-947d-e5edea7ef36a"
      },
      "execution_count": null,
      "outputs": [
        {
          "output_type": "execute_result",
          "data": {
            "text/plain": [
              "(879198, 'abhijeetsingh555666@gmail.com', 'Abhijeet Singh')"
            ]
          },
          "metadata": {},
          "execution_count": 28
        }
      ]
    },
    {
      "cell_type": "markdown",
      "source": [
        "### **Polymorphism**"
      ],
      "metadata": {
        "id": "-DobhveHb28y"
      }
    },
    {
      "cell_type": "code",
      "source": [
        "class data_science:\n",
        "\n",
        "  def func(self):\n",
        "    print(\"data science class\")"
      ],
      "metadata": {
        "id": "h8SisDadb50A"
      },
      "execution_count": null,
      "outputs": []
    },
    {
      "cell_type": "code",
      "source": [
        "class web_dev:\n",
        "\n",
        "  def func(self):\n",
        "    print(\"web dev class\")"
      ],
      "metadata": {
        "id": "06_ay5Vndg1Q"
      },
      "execution_count": null,
      "outputs": []
    },
    {
      "cell_type": "code",
      "source": [
        "def class_parser(class_obj):\n",
        "\n",
        "  for i in class_obj:\n",
        "    i.func()\n"
      ],
      "metadata": {
        "id": "JmpGPZWLdoeX"
      },
      "execution_count": null,
      "outputs": []
    },
    {
      "cell_type": "code",
      "source": [
        "obj_class_ds = data_science()"
      ],
      "metadata": {
        "id": "OsjVYcwyd_0K"
      },
      "execution_count": null,
      "outputs": []
    },
    {
      "cell_type": "code",
      "source": [
        "obj_class_wd = web_dev()"
      ],
      "metadata": {
        "id": "ZjCSUao4eO1E"
      },
      "execution_count": null,
      "outputs": []
    },
    {
      "cell_type": "code",
      "source": [
        "class_obj = [obj_class_ds , obj_class_wd]"
      ],
      "metadata": {
        "id": "gj3QgBR-eUbL"
      },
      "execution_count": null,
      "outputs": []
    },
    {
      "cell_type": "code",
      "source": [
        "class_parser(class_obj)"
      ],
      "metadata": {
        "colab": {
          "base_uri": "https://localhost:8080/"
        },
        "id": "hors0hURefvB",
        "outputId": "7d70f4c1-a719-410f-952d-f91422ac2736"
      },
      "execution_count": null,
      "outputs": [
        {
          "output_type": "stream",
          "name": "stdout",
          "text": [
            "data science class\n",
            "web dev class\n"
          ]
        }
      ]
    },
    {
      "cell_type": "markdown",
      "source": [
        "### **Encapsulation**"
      ],
      "metadata": {
        "id": "UqsUGCqifxh0"
      }
    },
    {
      "cell_type": "code",
      "source": [
        "class car:\n",
        "\n",
        "  def __init__(self, year, make, model, speed):\n",
        "    self.__year = year\n",
        "    self.__make = make\n",
        "    self.__model = model\n",
        "    self.__speed = 0\n",
        "\n",
        "  def set_speed(self, speed):\n",
        "    self.__speed = 0 if speed < 0 else speed\n",
        "\n",
        "  def get_speed(self):\n",
        "    return self.__speed"
      ],
      "metadata": {
        "id": "6aBKxe9nf0Y2"
      },
      "execution_count": null,
      "outputs": []
    },
    {
      "cell_type": "code",
      "source": [
        "obj_car = car(2025, 'Hyundai', 'Verna', 120)"
      ],
      "metadata": {
        "id": "CSoa9PXdmDPB"
      },
      "execution_count": null,
      "outputs": []
    },
    {
      "cell_type": "code",
      "source": [
        "obj_car.set_speed(50)"
      ],
      "metadata": {
        "id": "5z9mheblmPfJ"
      },
      "execution_count": null,
      "outputs": []
    },
    {
      "cell_type": "code",
      "source": [
        "obj_car.get_speed()"
      ],
      "metadata": {
        "colab": {
          "base_uri": "https://localhost:8080/"
        },
        "id": "2khK3HsXmv3d",
        "outputId": "9b0192f7-acff-420f-e69a-7a887c055dc6"
      },
      "execution_count": null,
      "outputs": [
        {
          "output_type": "execute_result",
          "data": {
            "text/plain": [
              "50"
            ]
          },
          "metadata": {},
          "execution_count": 59
        }
      ]
    },
    {
      "cell_type": "code",
      "source": [
        "class bank:\n",
        "\n",
        "  def __init__(self, balance):\n",
        "    self.__balance = balance\n",
        "\n",
        "\n",
        "  def deposit(self, amount):\n",
        "    self.__balance = self.__balance + amount\n",
        "\n",
        "  def withdraw(self, amount):\n",
        "    if amount <= self.__balance:\n",
        "      self.__balance = self.__balance - amount\n",
        "      return True\n",
        "\n",
        "    else:\n",
        "\n",
        "      return False\n",
        "\n",
        "  def get_balance(self):\n",
        "    return self.__balance\n"
      ],
      "metadata": {
        "id": "KHsHjQETn8xM"
      },
      "execution_count": null,
      "outputs": []
    },
    {
      "cell_type": "code",
      "source": [
        "obj_bank = bank(2000)"
      ],
      "metadata": {
        "id": "wRZk1wTVoBdK"
      },
      "execution_count": null,
      "outputs": []
    },
    {
      "cell_type": "code",
      "source": [
        "obj_bank.get_balance()"
      ],
      "metadata": {
        "colab": {
          "base_uri": "https://localhost:8080/"
        },
        "id": "_A-mD4b9owtT",
        "outputId": "f890b9cf-c09c-4fc6-97db-fccce53a90a6"
      },
      "execution_count": null,
      "outputs": [
        {
          "output_type": "execute_result",
          "data": {
            "text/plain": [
              "2000"
            ]
          },
          "metadata": {},
          "execution_count": 74
        }
      ]
    },
    {
      "cell_type": "code",
      "source": [
        "obj_bank.deposit(3000)"
      ],
      "metadata": {
        "id": "BYmrjO_6oz1t"
      },
      "execution_count": null,
      "outputs": []
    },
    {
      "cell_type": "code",
      "source": [
        "obj_bank.get_balance()"
      ],
      "metadata": {
        "colab": {
          "base_uri": "https://localhost:8080/"
        },
        "id": "ShVPrTgypYh6",
        "outputId": "1c0f28a4-d3a5-4431-96e5-bfb03ee12b48"
      },
      "execution_count": null,
      "outputs": [
        {
          "output_type": "execute_result",
          "data": {
            "text/plain": [
              "5000"
            ]
          },
          "metadata": {},
          "execution_count": 76
        }
      ]
    },
    {
      "cell_type": "code",
      "source": [
        "obj_bank.withdraw(1000)"
      ],
      "metadata": {
        "colab": {
          "base_uri": "https://localhost:8080/"
        },
        "id": "nvz2Sr1yo3ux",
        "outputId": "14fad03e-1f4c-45e1-cb3d-2f9c0d7ca685"
      },
      "execution_count": null,
      "outputs": [
        {
          "output_type": "execute_result",
          "data": {
            "text/plain": [
              "True"
            ]
          },
          "metadata": {},
          "execution_count": 77
        }
      ]
    },
    {
      "cell_type": "code",
      "source": [
        "obj_bank.get_balance()"
      ],
      "metadata": {
        "colab": {
          "base_uri": "https://localhost:8080/"
        },
        "id": "sHJRfBa9o-e7",
        "outputId": "1cad6066-354f-42be-ca5c-53e001124148"
      },
      "execution_count": null,
      "outputs": [
        {
          "output_type": "execute_result",
          "data": {
            "text/plain": [
              "4000"
            ]
          },
          "metadata": {},
          "execution_count": 78
        }
      ]
    },
    {
      "cell_type": "markdown",
      "source": [
        "### **Inheritance**"
      ],
      "metadata": {
        "id": "ZjwtAtbpprIY"
      }
    },
    {
      "cell_type": "code",
      "source": [
        "class parent:\n",
        "\n",
        "  def test(self):\n",
        "    print(\"Parent Function\")"
      ],
      "metadata": {
        "id": "IkbeqvPkp0Jw"
      },
      "execution_count": null,
      "outputs": []
    },
    {
      "cell_type": "code",
      "source": [
        "class child(parent):\n",
        "  pass"
      ],
      "metadata": {
        "id": "Q-Smj8A1vgo2"
      },
      "execution_count": null,
      "outputs": []
    },
    {
      "cell_type": "code",
      "source": [
        "obj_child = child()"
      ],
      "metadata": {
        "id": "R2vhPqwrvqda"
      },
      "execution_count": null,
      "outputs": []
    },
    {
      "cell_type": "code",
      "source": [
        "obj_child.test()"
      ],
      "metadata": {
        "colab": {
          "base_uri": "https://localhost:8080/"
        },
        "id": "5mfeAmWIvvUn",
        "outputId": "3075fd52-0e89-4ce5-c822-fb1580fa78e9"
      },
      "execution_count": null,
      "outputs": [
        {
          "output_type": "stream",
          "name": "stdout",
          "text": [
            "Parent Function\n"
          ]
        }
      ]
    }
  ]
}